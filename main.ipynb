{
 "cells": [
  {
   "cell_type": "code",
   "execution_count": 12,
   "metadata": {},
   "outputs": [],
   "source": [
    "import cv2\n",
    "from app import RetinaFace\n",
    "\n",
    "def detect_from_camera(model):\n",
    "    # Initialize the camera\n",
    "    cap = cv2.VideoCapture(0)\n",
    "    if not cap.isOpened():\n",
    "        print(\"Cannot open the camera\")\n",
    "        return\n",
    "\n",
    "    while True:\n",
    "        # Read each frame from the camera\n",
    "        ret, frame = cap.read()\n",
    "        if not ret:\n",
    "            print(\"Cannot read data from the camera\")\n",
    "            break\n",
    "\n",
    "        # Perform face detection\n",
    "        det, _ = model.detect(frame, input_size=(640, 480))\n",
    "\n",
    "        # Display the results\n",
    "        for bbox in det:\n",
    "            x1, y1, x2, y2, score = bbox\n",
    "            if score > model.det_thresh:\n",
    "                cv2.rectangle(frame, (int(x1), int(y1)), (int(x2), int(y2)), (0, 255, 0), 2)\n",
    "                # Calculate the distance\n",
    "                face_width = x2 - x1\n",
    "                distance = (480 * 0.23) / face_width\n",
    "                # Display distance\n",
    "                cv2.putText(frame, f\"Distance: {distance:.2f} m\", (int(x1), int(y1 - 10)), cv2.FONT_HERSHEY_SIMPLEX, 0.5, (255, 255, 255), 2)\n",
    "\n",
    "        # Show the frame\n",
    "        cv2.imshow('Face Detection', frame)\n",
    "\n",
    "        # Press 'q' to exit\n",
    "        if cv2.waitKey(1) & 0xFF == ord('q'):\n",
    "            break\n",
    "\n",
    "    # Release the camera and close all windows\n",
    "    cap.release()\n",
    "    cv2.destroyAllWindows()\n",
    "\n",
    "# Load the model\n",
    "model = RetinaFace(model_file='model/model.onnx')\n",
    "# Start detecting faces from the camera\n",
    "detect_from_camera(model)\n"
   ]
  }
 ],
 "metadata": {
  "kernelspec": {
   "display_name": "pytorch_gpu",
   "language": "python",
   "name": "python3"
  },
  "language_info": {
   "codemirror_mode": {
    "name": "ipython",
    "version": 3
   },
   "file_extension": ".py",
   "mimetype": "text/x-python",
   "name": "python",
   "nbconvert_exporter": "python",
   "pygments_lexer": "ipython3",
   "version": "3.8.19"
  }
 },
 "nbformat": 4,
 "nbformat_minor": 2
}
